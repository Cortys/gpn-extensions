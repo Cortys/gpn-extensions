{
 "cells": [
  {
   "cell_type": "code",
   "execution_count": 1,
   "metadata": {},
   "outputs": [],
   "source": [
    "%load_ext autoreload\n",
    "%autoreload 2"
   ]
  },
  {
   "cell_type": "code",
   "execution_count": 2,
   "metadata": {},
   "outputs": [],
   "source": [
    "import torch\n",
    "import torch_geometric as pyg\n",
    "import torch_geometric.datasets as pygd\n",
    "import warnings\n",
    "from sklearn.exceptions import UndefinedMetricWarning\n",
    "\n",
    "warnings.filterwarnings(\"ignore\", category=UndefinedMetricWarning)"
   ]
  },
  {
   "cell_type": "code",
   "execution_count": 5,
   "metadata": {},
   "outputs": [
    {
     "name": "stdout",
     "output_type": "stream",
     "text": [
      "Epoch 1/5:\n",
      "w SparseTensor(row=tensor([   0,    0,    0,  ..., 7649, 7649, 7649], device='cuda:0'),\n",
      "             col=tensor([   0, 1210, 2198,  ..., 3295, 4196, 7649], device='cuda:0'),\n",
      "             val=tensor([0.1818, 0.0170, 0.0072,  ..., 0.0472, 0.1006, 0.3250], device='cuda:0'),\n",
      "             size=(7650, 7650), nnz=245812, density=0.42%)\n",
      "e tensor([721.2976, 708.0585, 726.5742,  ..., 736.7337, 722.9227, 730.2520],\n",
      "       device='cuda:0', grad_fn=<SumBackward1>)\n"
     ]
    },
    {
     "ename": "RuntimeError",
     "evalue": "mat.dim() >= 2 INTERNAL ASSERT FAILED at \"csrc/cuda/spmm_cuda.cu\":110, please report a bug to PyTorch. Input mismatch",
     "output_type": "error",
     "traceback": [
      "\u001b[0;31m---------------------------------------------------------------------------\u001b[0m",
      "\u001b[0;31mRuntimeError\u001b[0m                              Traceback (most recent call last)",
      "Cell \u001b[0;32mIn[5], line 77\u001b[0m\n\u001b[1;32m     75\u001b[0m \u001b[38;5;66;03m# gpn_e = create_experiment(\"GPN\")\u001b[39;00m\n\u001b[1;32m     76\u001b[0m lop_e \u001b[38;5;241m=\u001b[39m create_experiment(\u001b[38;5;124m\"\u001b[39m\u001b[38;5;124mGPN_LOP\u001b[39m\u001b[38;5;124m\"\u001b[39m)\n\u001b[0;32m---> 77\u001b[0m res_lop \u001b[38;5;241m=\u001b[39m \u001b[43mlop_e\u001b[49m\u001b[38;5;241;43m.\u001b[39;49m\u001b[43mrun\u001b[49m\u001b[43m(\u001b[49m\u001b[43m)\u001b[49m\n\u001b[1;32m     78\u001b[0m \u001b[38;5;66;03m# res = gpn_e.run()\u001b[39;00m\n\u001b[1;32m     79\u001b[0m res_lop\n",
      "File \u001b[0;32m~/Projects/Graph-Posterior-Network/gpn/experiments/multiple_run_experiment.py:50\u001b[0m, in \u001b[0;36mMultipleRunExperiment.run\u001b[0;34m(self)\u001b[0m\n\u001b[1;32m     47\u001b[0m \u001b[38;5;28mself\u001b[39m\u001b[38;5;241m.\u001b[39mmodel_cfg\u001b[38;5;241m.\u001b[39mset_values(init_no\u001b[38;5;241m=\u001b[39minit_no)\n\u001b[1;32m     49\u001b[0m \u001b[38;5;28;01mif\u001b[39;00m \u001b[38;5;28mself\u001b[39m\u001b[38;5;241m.\u001b[39mrun_cfg\u001b[38;5;241m.\u001b[39mex_type \u001b[38;5;241m==\u001b[39m \u001b[38;5;124m'\u001b[39m\u001b[38;5;124mtransductive\u001b[39m\u001b[38;5;124m'\u001b[39m:\n\u001b[0;32m---> 50\u001b[0m     results \u001b[38;5;241m=\u001b[39m \u001b[38;5;28;43mself\u001b[39;49m\u001b[38;5;241;43m.\u001b[39;49m\u001b[43mrun_transductive_experiment\u001b[49m\u001b[43m(\u001b[49m\u001b[43m)\u001b[49m\n\u001b[1;32m     52\u001b[0m \u001b[38;5;28;01melse\u001b[39;00m:\n\u001b[1;32m     53\u001b[0m     \u001b[38;5;28;01mraise\u001b[39;00m \u001b[38;5;167;01mValueError\u001b[39;00m\n",
      "File \u001b[0;32m~/Projects/Graph-Posterior-Network/gpn/experiments/multiple_run_experiment.py:78\u001b[0m, in \u001b[0;36mMultipleRunExperiment.run_transductive_experiment\u001b[0;34m(self)\u001b[0m\n\u001b[1;32m     74\u001b[0m \u001b[38;5;28;01mdef\u001b[39;00m \u001b[38;5;21mrun_transductive_experiment\u001b[39m(\u001b[38;5;28mself\u001b[39m) \u001b[38;5;241m-\u001b[39m\u001b[38;5;241m>\u001b[39m Dict[\u001b[38;5;28mstr\u001b[39m, Any]:\n\u001b[1;32m     75\u001b[0m     experiment \u001b[38;5;241m=\u001b[39m TransductiveExperiment(\n\u001b[1;32m     76\u001b[0m         \u001b[38;5;28mself\u001b[39m\u001b[38;5;241m.\u001b[39mrun_cfg\u001b[38;5;241m.\u001b[39mclone(), \u001b[38;5;28mself\u001b[39m\u001b[38;5;241m.\u001b[39mdata_cfg\u001b[38;5;241m.\u001b[39mclone(),\n\u001b[1;32m     77\u001b[0m         \u001b[38;5;28mself\u001b[39m\u001b[38;5;241m.\u001b[39mmodel_cfg\u001b[38;5;241m.\u001b[39mclone(), \u001b[38;5;28mself\u001b[39m\u001b[38;5;241m.\u001b[39mtrain_cfg\u001b[38;5;241m.\u001b[39mclone(), ex\u001b[38;5;241m=\u001b[39m\u001b[38;5;28mself\u001b[39m\u001b[38;5;241m.\u001b[39mex)\n\u001b[0;32m---> 78\u001b[0m     results \u001b[38;5;241m=\u001b[39m \u001b[43mexperiment\u001b[49m\u001b[38;5;241;43m.\u001b[39;49m\u001b[43mrun\u001b[49m\u001b[43m(\u001b[49m\u001b[43m)\u001b[49m\n\u001b[1;32m     80\u001b[0m     \u001b[38;5;28;01mreturn\u001b[39;00m results\n",
      "File \u001b[0;32m~/Projects/Graph-Posterior-Network/gpn/experiments/transductive_experiment.py:295\u001b[0m, in \u001b[0;36mTransductiveExperiment.run\u001b[0;34m(self)\u001b[0m\n\u001b[1;32m    293\u001b[0m \u001b[38;5;28;01mdef\u001b[39;00m \u001b[38;5;21mrun\u001b[39m(\u001b[38;5;28mself\u001b[39m) \u001b[38;5;241m-\u001b[39m\u001b[38;5;241m>\u001b[39m Dict[\u001b[38;5;28mstr\u001b[39m, Any]:\n\u001b[1;32m    294\u001b[0m     \u001b[38;5;28;01mif\u001b[39;00m \u001b[38;5;28mself\u001b[39m\u001b[38;5;241m.\u001b[39mrun_cfg\u001b[38;5;241m.\u001b[39mjob \u001b[38;5;241m==\u001b[39m \u001b[38;5;124m'\u001b[39m\u001b[38;5;124mtrain\u001b[39m\u001b[38;5;124m'\u001b[39m:\n\u001b[0;32m--> 295\u001b[0m         \u001b[38;5;28;43mself\u001b[39;49m\u001b[38;5;241;43m.\u001b[39;49m\u001b[43mtrain\u001b[49m\u001b[43m(\u001b[49m\u001b[43m)\u001b[49m\n\u001b[1;32m    297\u001b[0m     \u001b[38;5;28;01mif\u001b[39;00m \u001b[38;5;28mself\u001b[39m\u001b[38;5;241m.\u001b[39mdata_cfg\u001b[38;5;241m.\u001b[39mood_flag:\n\u001b[1;32m    298\u001b[0m         results \u001b[38;5;241m=\u001b[39m \u001b[38;5;28mself\u001b[39m\u001b[38;5;241m.\u001b[39mevaluate_ood()\n",
      "File \u001b[0;32m~/Projects/Graph-Posterior-Network/gpn/experiments/transductive_experiment.py:226\u001b[0m, in \u001b[0;36mTransductiveExperiment.train\u001b[0;34m(self)\u001b[0m\n\u001b[1;32m    223\u001b[0m     optimizer \u001b[38;5;241m=\u001b[39m \u001b[38;5;28mself\u001b[39m\u001b[38;5;241m.\u001b[39mmodel\u001b[38;5;241m.\u001b[39mget_warmup_optimizer(\u001b[38;5;28mself\u001b[39m\u001b[38;5;241m.\u001b[39mtrain_cfg\u001b[38;5;241m.\u001b[39mlr, \u001b[38;5;28mself\u001b[39m\u001b[38;5;241m.\u001b[39mtrain_cfg\u001b[38;5;241m.\u001b[39mweight_decay)\n\u001b[1;32m    225\u001b[0m     \u001b[38;5;28mself\u001b[39m\u001b[38;5;241m.\u001b[39mengine\u001b[38;5;241m.\u001b[39mmodel\u001b[38;5;241m.\u001b[39mset_warming_up(\u001b[38;5;28;01mTrue\u001b[39;00m)\n\u001b[0;32m--> 226\u001b[0m     _ \u001b[38;5;241m=\u001b[39m \u001b[38;5;28;43mself\u001b[39;49m\u001b[38;5;241;43m.\u001b[39;49m\u001b[43mengine\u001b[49m\u001b[38;5;241;43m.\u001b[39;49m\u001b[43mtrain\u001b[49m\u001b[43m(\u001b[49m\n\u001b[1;32m    227\u001b[0m \u001b[43m        \u001b[49m\u001b[43mtrain_data\u001b[49m\u001b[38;5;241;43m=\u001b[39;49m\u001b[38;5;28;43mself\u001b[39;49m\u001b[38;5;241;43m.\u001b[39;49m\u001b[43mdataset\u001b[49m\u001b[38;5;241;43m.\u001b[39;49m\u001b[43mwarmup_loader\u001b[49m\u001b[43m,\u001b[49m\n\u001b[1;32m    228\u001b[0m \u001b[43m        \u001b[49m\u001b[43mval_data\u001b[49m\u001b[38;5;241;43m=\u001b[39;49m\u001b[38;5;28;43mself\u001b[39;49m\u001b[38;5;241;43m.\u001b[39;49m\u001b[43mdataset\u001b[49m\u001b[38;5;241;43m.\u001b[39;49m\u001b[43mtrain_val_loader\u001b[49m\u001b[43m,\u001b[49m\n\u001b[1;32m    229\u001b[0m \u001b[43m        \u001b[49m\u001b[43moptimizer\u001b[49m\u001b[38;5;241;43m=\u001b[39;49m\u001b[43moptimizer\u001b[49m\u001b[43m,\u001b[49m\n\u001b[1;32m    230\u001b[0m \u001b[43m        \u001b[49m\u001b[43mlikelihood_optimizer\u001b[49m\u001b[38;5;241;43m=\u001b[39;49m\u001b[38;5;28;43;01mNone\u001b[39;49;00m\u001b[43m,\u001b[49m\n\u001b[1;32m    231\u001b[0m \u001b[43m        \u001b[49m\u001b[43mloss\u001b[49m\u001b[38;5;241;43m=\u001b[39;49m\u001b[38;5;28;43mself\u001b[39;49m\u001b[38;5;241;43m.\u001b[39;49m\u001b[43mmodel\u001b[49m\u001b[38;5;241;43m.\u001b[39;49m\u001b[43mwarmup_loss\u001b[49m\u001b[43m,\u001b[49m\n\u001b[1;32m    232\u001b[0m \u001b[43m        \u001b[49m\u001b[43mepochs\u001b[49m\u001b[38;5;241;43m=\u001b[39;49m\u001b[38;5;28;43mself\u001b[39;49m\u001b[38;5;241;43m.\u001b[39;49m\u001b[43mtrain_cfg\u001b[49m\u001b[38;5;241;43m.\u001b[39;49m\u001b[43mwarmup_epochs\u001b[49m\u001b[43m,\u001b[49m\n\u001b[1;32m    233\u001b[0m \u001b[43m        \u001b[49m\u001b[43meval_every\u001b[49m\u001b[38;5;241;43m=\u001b[39;49m\u001b[38;5;241;43m1\u001b[39;49m\u001b[43m,\u001b[49m\u001b[43m \u001b[49m\u001b[43meval_train\u001b[49m\u001b[38;5;241;43m=\u001b[39;49m\u001b[38;5;28;43;01mTrue\u001b[39;49;00m\u001b[43m,\u001b[49m\n\u001b[1;32m    234\u001b[0m \u001b[43m        \u001b[49m\u001b[43mcallbacks\u001b[49m\u001b[38;5;241;43m=\u001b[39;49m\u001b[43mwarmup_callbacks\u001b[49m\u001b[43m,\u001b[49m\n\u001b[1;32m    235\u001b[0m \u001b[43m        \u001b[49m\u001b[43mmetrics\u001b[49m\u001b[38;5;241;43m=\u001b[39;49m\u001b[43mmetrics\u001b[49m\u001b[43m,\u001b[49m\n\u001b[1;32m    236\u001b[0m \u001b[43m        \u001b[49m\u001b[43mgpu\u001b[49m\u001b[38;5;241;43m=\u001b[39;49m\u001b[38;5;28;43mself\u001b[39;49m\u001b[38;5;241;43m.\u001b[39;49m\u001b[43mrun_cfg\u001b[49m\u001b[38;5;241;43m.\u001b[39;49m\u001b[43mgpu\u001b[49m\u001b[43m)\u001b[49m\n\u001b[1;32m    238\u001b[0m     \u001b[38;5;28mself\u001b[39m\u001b[38;5;241m.\u001b[39mengine\u001b[38;5;241m.\u001b[39mmodel\u001b[38;5;241m.\u001b[39mset_warming_up(\u001b[38;5;28;01mFalse\u001b[39;00m)\n\u001b[1;32m    240\u001b[0m \u001b[38;5;66;03m# ------------------------------------------------------------------------------------------------\u001b[39;00m\n\u001b[1;32m    241\u001b[0m \u001b[38;5;66;03m# main training loop training\u001b[39;00m\n\u001b[1;32m    242\u001b[0m \u001b[38;5;66;03m# set-up optimizer\u001b[39;00m\n",
      "File \u001b[0;32m~/Projects/Graph-Posterior-Network/gpn/nn/transductive_graph_engine.py:140\u001b[0m, in \u001b[0;36mTransductiveGraphEngine.train\u001b[0;34m(self, train_data, val_data, epochs, eval_every, eval_train, eval_val, callbacks, metrics, gpu, **kwargs)\u001b[0m\n\u001b[1;32m    138\u001b[0m item \u001b[38;5;241m=\u001b[39m \u001b[38;5;28mnext\u001b[39m(train_iterator)  \u001b[38;5;66;03m# type: ignore\u001b[39;00m\n\u001b[1;32m    139\u001b[0m item \u001b[38;5;241m=\u001b[39m item\u001b[38;5;241m.\u001b[39mto(\u001b[38;5;28mself\u001b[39m\u001b[38;5;241m.\u001b[39mdevice)\n\u001b[0;32m--> 140\u001b[0m loss \u001b[38;5;241m=\u001b[39m \u001b[38;5;28;43mself\u001b[39;49m\u001b[38;5;241;43m.\u001b[39;49m\u001b[43mtrain_batch\u001b[49m\u001b[43m(\u001b[49m\u001b[43mitem\u001b[49m\u001b[43m,\u001b[49m\u001b[43m \u001b[49m\u001b[38;5;241;43m*\u001b[39;49m\u001b[38;5;241;43m*\u001b[39;49m\u001b[43mtrain_kwargs\u001b[49m\u001b[43m)\u001b[49m\n\u001b[1;32m    141\u001b[0m batch_losses\u001b[38;5;241m.\u001b[39mappend(loss)\n\u001b[1;32m    142\u001b[0m \u001b[38;5;28mself\u001b[39m\u001b[38;5;241m.\u001b[39m_exec_callbacks(\n\u001b[1;32m    143\u001b[0m     train_callbacks, \u001b[38;5;124m\"\u001b[39m\u001b[38;5;124mafter_batch\u001b[39m\u001b[38;5;124m\"\u001b[39m, _strip_metrics(loss)\n\u001b[1;32m    144\u001b[0m )\n",
      "File \u001b[0;32m~/Projects/Graph-Posterior-Network/gpn/nn/transductive_graph_engine.py:328\u001b[0m, in \u001b[0;36mTransductiveGraphEngine.train_batch\u001b[0;34m(self, data, optimizer, loss, **kwargs)\u001b[0m\n\u001b[1;32m    325\u001b[0m \u001b[38;5;28;01mdef\u001b[39;00m \u001b[38;5;21mtrain_batch\u001b[39m(\u001b[38;5;28mself\u001b[39m, data, optimizer, loss\u001b[38;5;241m=\u001b[39m\u001b[38;5;28;01mNone\u001b[39;00m, \u001b[38;5;241m*\u001b[39m\u001b[38;5;241m*\u001b[39mkwargs):\n\u001b[1;32m    326\u001b[0m     \u001b[38;5;66;03m# train full model\u001b[39;00m\n\u001b[1;32m    327\u001b[0m     optimizer\u001b[38;5;241m.\u001b[39mzero_grad()\n\u001b[0;32m--> 328\u001b[0m     y_hat \u001b[38;5;241m=\u001b[39m \u001b[38;5;28;43mself\u001b[39;49m\u001b[38;5;241;43m.\u001b[39;49m\u001b[43mpredict_batch\u001b[49m\u001b[43m(\u001b[49m\u001b[43mdata\u001b[49m\u001b[43m)\u001b[49m\n\u001b[1;32m    330\u001b[0m     \u001b[38;5;28;01mif\u001b[39;00m loss \u001b[38;5;129;01mis\u001b[39;00m \u001b[38;5;28;01mNone\u001b[39;00m:\n\u001b[1;32m    331\u001b[0m         loss_train \u001b[38;5;241m=\u001b[39m \u001b[38;5;28mself\u001b[39m\u001b[38;5;241m.\u001b[39mmodel\u001b[38;5;241m.\u001b[39mloss(y_hat, data)\n",
      "File \u001b[0;32m~/Projects/Graph-Posterior-Network/gpn/nn/transductive_graph_engine.py:347\u001b[0m, in \u001b[0;36mTransductiveGraphEngine.predict_batch\u001b[0;34m(self, data, **kwargs)\u001b[0m\n\u001b[1;32m    346\u001b[0m \u001b[38;5;28;01mdef\u001b[39;00m \u001b[38;5;21mpredict_batch\u001b[39m(\u001b[38;5;28mself\u001b[39m, data, \u001b[38;5;241m*\u001b[39m\u001b[38;5;241m*\u001b[39mkwargs):\n\u001b[0;32m--> 347\u001b[0m     \u001b[38;5;28;01mreturn\u001b[39;00m \u001b[38;5;28;43mself\u001b[39;49m\u001b[38;5;241;43m.\u001b[39;49m\u001b[43mmodel\u001b[49m\u001b[43m(\u001b[49m\u001b[43mdata\u001b[49m\u001b[43m)\u001b[49m\n",
      "File \u001b[0;32m~/Projects/Graph-Posterior-Network/.venv/lib/python3.10/site-packages/torch/nn/modules/module.py:1518\u001b[0m, in \u001b[0;36mModule._wrapped_call_impl\u001b[0;34m(self, *args, **kwargs)\u001b[0m\n\u001b[1;32m   1516\u001b[0m     \u001b[38;5;28;01mreturn\u001b[39;00m \u001b[38;5;28mself\u001b[39m\u001b[38;5;241m.\u001b[39m_compiled_call_impl(\u001b[38;5;241m*\u001b[39margs, \u001b[38;5;241m*\u001b[39m\u001b[38;5;241m*\u001b[39mkwargs)  \u001b[38;5;66;03m# type: ignore[misc]\u001b[39;00m\n\u001b[1;32m   1517\u001b[0m \u001b[38;5;28;01melse\u001b[39;00m:\n\u001b[0;32m-> 1518\u001b[0m     \u001b[38;5;28;01mreturn\u001b[39;00m \u001b[38;5;28;43mself\u001b[39;49m\u001b[38;5;241;43m.\u001b[39;49m\u001b[43m_call_impl\u001b[49m\u001b[43m(\u001b[49m\u001b[38;5;241;43m*\u001b[39;49m\u001b[43margs\u001b[49m\u001b[43m,\u001b[49m\u001b[43m \u001b[49m\u001b[38;5;241;43m*\u001b[39;49m\u001b[38;5;241;43m*\u001b[39;49m\u001b[43mkwargs\u001b[49m\u001b[43m)\u001b[49m\n",
      "File \u001b[0;32m~/Projects/Graph-Posterior-Network/.venv/lib/python3.10/site-packages/torch/nn/modules/module.py:1527\u001b[0m, in \u001b[0;36mModule._call_impl\u001b[0;34m(self, *args, **kwargs)\u001b[0m\n\u001b[1;32m   1522\u001b[0m \u001b[38;5;66;03m# If we don't have any hooks, we want to skip the rest of the logic in\u001b[39;00m\n\u001b[1;32m   1523\u001b[0m \u001b[38;5;66;03m# this function, and just call forward.\u001b[39;00m\n\u001b[1;32m   1524\u001b[0m \u001b[38;5;28;01mif\u001b[39;00m \u001b[38;5;129;01mnot\u001b[39;00m (\u001b[38;5;28mself\u001b[39m\u001b[38;5;241m.\u001b[39m_backward_hooks \u001b[38;5;129;01mor\u001b[39;00m \u001b[38;5;28mself\u001b[39m\u001b[38;5;241m.\u001b[39m_backward_pre_hooks \u001b[38;5;129;01mor\u001b[39;00m \u001b[38;5;28mself\u001b[39m\u001b[38;5;241m.\u001b[39m_forward_hooks \u001b[38;5;129;01mor\u001b[39;00m \u001b[38;5;28mself\u001b[39m\u001b[38;5;241m.\u001b[39m_forward_pre_hooks\n\u001b[1;32m   1525\u001b[0m         \u001b[38;5;129;01mor\u001b[39;00m _global_backward_pre_hooks \u001b[38;5;129;01mor\u001b[39;00m _global_backward_hooks\n\u001b[1;32m   1526\u001b[0m         \u001b[38;5;129;01mor\u001b[39;00m _global_forward_hooks \u001b[38;5;129;01mor\u001b[39;00m _global_forward_pre_hooks):\n\u001b[0;32m-> 1527\u001b[0m     \u001b[38;5;28;01mreturn\u001b[39;00m \u001b[43mforward_call\u001b[49m\u001b[43m(\u001b[49m\u001b[38;5;241;43m*\u001b[39;49m\u001b[43margs\u001b[49m\u001b[43m,\u001b[49m\u001b[43m \u001b[49m\u001b[38;5;241;43m*\u001b[39;49m\u001b[38;5;241;43m*\u001b[39;49m\u001b[43mkwargs\u001b[49m\u001b[43m)\u001b[49m\n\u001b[1;32m   1529\u001b[0m \u001b[38;5;28;01mtry\u001b[39;00m:\n\u001b[1;32m   1530\u001b[0m     result \u001b[38;5;241m=\u001b[39m \u001b[38;5;28;01mNone\u001b[39;00m\n",
      "File \u001b[0;32m~/Projects/Graph-Posterior-Network/gpn/models/gpn_lop.py:54\u001b[0m, in \u001b[0;36mGPN_LOP.forward\u001b[0;34m(self, data)\u001b[0m\n\u001b[1;32m     52\u001b[0m evidence_ft \u001b[38;5;241m=\u001b[39m beta_ft\u001b[38;5;241m.\u001b[39msum(\u001b[38;5;241m-\u001b[39m\u001b[38;5;241m1\u001b[39m)\n\u001b[1;32m     53\u001b[0m \u001b[38;5;28mprint\u001b[39m(\u001b[38;5;124m\"\u001b[39m\u001b[38;5;124me\u001b[39m\u001b[38;5;124m\"\u001b[39m, evidence_ft)\n\u001b[0;32m---> 54\u001b[0m evidence \u001b[38;5;241m=\u001b[39m \u001b[43mpropagation_weights\u001b[49m\u001b[43m \u001b[49m\u001b[38;5;241;43m@\u001b[39;49m\u001b[43m \u001b[49m\u001b[43mevidence_ft\u001b[49m\n\u001b[1;32m     55\u001b[0m alpha \u001b[38;5;241m=\u001b[39m propagation_weights \u001b[38;5;241m@\u001b[39m alpha_features\n\u001b[1;32m     57\u001b[0m soft_ft \u001b[38;5;241m=\u001b[39m alpha_features \u001b[38;5;241m/\u001b[39m alpha_features\u001b[38;5;241m.\u001b[39msum(\u001b[38;5;241m-\u001b[39m\u001b[38;5;241m1\u001b[39m, keepdim\u001b[38;5;241m=\u001b[39m\u001b[38;5;28;01mTrue\u001b[39;00m)\n",
      "File \u001b[0;32m~/Projects/Graph-Posterior-Network/.venv/lib/python3.10/site-packages/torch_sparse/matmul.py:171\u001b[0m, in \u001b[0;36m<lambda>\u001b[0;34m(self, other)\u001b[0m\n\u001b[1;32m    167\u001b[0m SparseTensor\u001b[38;5;241m.\u001b[39mspspmm \u001b[38;5;241m=\u001b[39m \u001b[38;5;28;01mlambda\u001b[39;00m \u001b[38;5;28mself\u001b[39m, other, reduce\u001b[38;5;241m=\u001b[39m\u001b[38;5;124m\"\u001b[39m\u001b[38;5;124msum\u001b[39m\u001b[38;5;124m\"\u001b[39m: spspmm(\n\u001b[1;32m    168\u001b[0m     \u001b[38;5;28mself\u001b[39m, other, reduce)\n\u001b[1;32m    169\u001b[0m SparseTensor\u001b[38;5;241m.\u001b[39mmatmul \u001b[38;5;241m=\u001b[39m \u001b[38;5;28;01mlambda\u001b[39;00m \u001b[38;5;28mself\u001b[39m, other, reduce\u001b[38;5;241m=\u001b[39m\u001b[38;5;124m\"\u001b[39m\u001b[38;5;124msum\u001b[39m\u001b[38;5;124m\"\u001b[39m: matmul(\n\u001b[1;32m    170\u001b[0m     \u001b[38;5;28mself\u001b[39m, other, reduce)\n\u001b[0;32m--> 171\u001b[0m SparseTensor\u001b[38;5;241m.\u001b[39m\u001b[38;5;21m__matmul__\u001b[39m \u001b[38;5;241m=\u001b[39m \u001b[38;5;28;01mlambda\u001b[39;00m \u001b[38;5;28mself\u001b[39m, other: \u001b[43mmatmul\u001b[49m\u001b[43m(\u001b[49m\u001b[38;5;28;43mself\u001b[39;49m\u001b[43m,\u001b[49m\u001b[43m \u001b[49m\u001b[43mother\u001b[49m\u001b[43m,\u001b[49m\u001b[43m \u001b[49m\u001b[38;5;124;43m'\u001b[39;49m\u001b[38;5;124;43msum\u001b[39;49m\u001b[38;5;124;43m'\u001b[39;49m\u001b[43m)\u001b[49m\n",
      "File \u001b[0;32m~/Projects/Graph-Posterior-Network/.venv/lib/python3.10/site-packages/torch_sparse/matmul.py:160\u001b[0m, in \u001b[0;36mmatmul\u001b[0;34m(src, other, reduce)\u001b[0m\n\u001b[1;32m    142\u001b[0m \u001b[38;5;250m\u001b[39m\u001b[38;5;124;03m\"\"\"Matrix product of a sparse tensor with either another sparse tensor or a\u001b[39;00m\n\u001b[1;32m    143\u001b[0m \u001b[38;5;124;03m dense tensor. The sparse tensor represents an adjacency matrix and is\u001b[39;00m\n\u001b[1;32m    144\u001b[0m \u001b[38;5;124;03m stored as a list of edges. This method multiplies elements along the rows\u001b[39;00m\n\u001b[0;32m   (...)\u001b[0m\n\u001b[1;32m    157\u001b[0m \u001b[38;5;124;03m:rtype: (:class:`Tensor`)\u001b[39;00m\n\u001b[1;32m    158\u001b[0m \u001b[38;5;124;03m\"\"\"\u001b[39;00m\n\u001b[1;32m    159\u001b[0m \u001b[38;5;28;01mif\u001b[39;00m \u001b[38;5;28misinstance\u001b[39m(other, torch\u001b[38;5;241m.\u001b[39mTensor):\n\u001b[0;32m--> 160\u001b[0m     \u001b[38;5;28;01mreturn\u001b[39;00m \u001b[43mspmm\u001b[49m\u001b[43m(\u001b[49m\u001b[43msrc\u001b[49m\u001b[43m,\u001b[49m\u001b[43m \u001b[49m\u001b[43mother\u001b[49m\u001b[43m,\u001b[49m\u001b[43m \u001b[49m\u001b[43mreduce\u001b[49m\u001b[43m)\u001b[49m\n\u001b[1;32m    161\u001b[0m \u001b[38;5;28;01melif\u001b[39;00m \u001b[38;5;28misinstance\u001b[39m(other, SparseTensor):\n\u001b[1;32m    162\u001b[0m     \u001b[38;5;28;01mreturn\u001b[39;00m spspmm(src, other, reduce)\n",
      "File \u001b[0;32m~/Projects/Graph-Posterior-Network/.venv/lib/python3.10/site-packages/torch_sparse/matmul.py:83\u001b[0m, in \u001b[0;36mspmm\u001b[0;34m(src, other, reduce)\u001b[0m\n\u001b[1;32m     79\u001b[0m \u001b[38;5;28;01mdef\u001b[39;00m \u001b[38;5;21mspmm\u001b[39m(src: SparseTensor,\n\u001b[1;32m     80\u001b[0m          other: torch\u001b[38;5;241m.\u001b[39mTensor,\n\u001b[1;32m     81\u001b[0m          reduce: \u001b[38;5;28mstr\u001b[39m \u001b[38;5;241m=\u001b[39m \u001b[38;5;124m\"\u001b[39m\u001b[38;5;124msum\u001b[39m\u001b[38;5;124m\"\u001b[39m) \u001b[38;5;241m-\u001b[39m\u001b[38;5;241m>\u001b[39m torch\u001b[38;5;241m.\u001b[39mTensor:\n\u001b[1;32m     82\u001b[0m     \u001b[38;5;28;01mif\u001b[39;00m reduce \u001b[38;5;241m==\u001b[39m \u001b[38;5;124m'\u001b[39m\u001b[38;5;124msum\u001b[39m\u001b[38;5;124m'\u001b[39m \u001b[38;5;129;01mor\u001b[39;00m reduce \u001b[38;5;241m==\u001b[39m \u001b[38;5;124m'\u001b[39m\u001b[38;5;124madd\u001b[39m\u001b[38;5;124m'\u001b[39m:\n\u001b[0;32m---> 83\u001b[0m         \u001b[38;5;28;01mreturn\u001b[39;00m \u001b[43mspmm_sum\u001b[49m\u001b[43m(\u001b[49m\u001b[43msrc\u001b[49m\u001b[43m,\u001b[49m\u001b[43m \u001b[49m\u001b[43mother\u001b[49m\u001b[43m)\u001b[49m\n\u001b[1;32m     84\u001b[0m     \u001b[38;5;28;01melif\u001b[39;00m reduce \u001b[38;5;241m==\u001b[39m \u001b[38;5;124m'\u001b[39m\u001b[38;5;124mmean\u001b[39m\u001b[38;5;124m'\u001b[39m:\n\u001b[1;32m     85\u001b[0m         \u001b[38;5;28;01mreturn\u001b[39;00m spmm_mean(src, other)\n",
      "File \u001b[0;32m~/Projects/Graph-Posterior-Network/.venv/lib/python3.10/site-packages/torch_sparse/matmul.py:27\u001b[0m, in \u001b[0;36mspmm_sum\u001b[0;34m(src, other)\u001b[0m\n\u001b[1;32m     24\u001b[0m     csr2csc \u001b[38;5;241m=\u001b[39m src\u001b[38;5;241m.\u001b[39mstorage\u001b[38;5;241m.\u001b[39mcsr2csc()\n\u001b[1;32m     25\u001b[0m     colptr \u001b[38;5;241m=\u001b[39m src\u001b[38;5;241m.\u001b[39mstorage\u001b[38;5;241m.\u001b[39mcolptr()\n\u001b[0;32m---> 27\u001b[0m \u001b[38;5;28;01mreturn\u001b[39;00m \u001b[43mtorch\u001b[49m\u001b[38;5;241;43m.\u001b[39;49m\u001b[43mops\u001b[49m\u001b[38;5;241;43m.\u001b[39;49m\u001b[43mtorch_sparse\u001b[49m\u001b[38;5;241;43m.\u001b[39;49m\u001b[43mspmm_sum\u001b[49m\u001b[43m(\u001b[49m\u001b[43mrow\u001b[49m\u001b[43m,\u001b[49m\u001b[43m \u001b[49m\u001b[43mrowptr\u001b[49m\u001b[43m,\u001b[49m\u001b[43m \u001b[49m\u001b[43mcol\u001b[49m\u001b[43m,\u001b[49m\u001b[43m \u001b[49m\u001b[43mvalue\u001b[49m\u001b[43m,\u001b[49m\u001b[43m \u001b[49m\u001b[43mcolptr\u001b[49m\u001b[43m,\u001b[49m\n\u001b[1;32m     28\u001b[0m \u001b[43m                                       \u001b[49m\u001b[43mcsr2csc\u001b[49m\u001b[43m,\u001b[49m\u001b[43m \u001b[49m\u001b[43mother\u001b[49m\u001b[43m)\u001b[49m\n",
      "File \u001b[0;32m~/Projects/Graph-Posterior-Network/.venv/lib/python3.10/site-packages/torch/_ops.py:692\u001b[0m, in \u001b[0;36mOpOverloadPacket.__call__\u001b[0;34m(self, *args, **kwargs)\u001b[0m\n\u001b[1;32m    687\u001b[0m \u001b[38;5;28;01mdef\u001b[39;00m \u001b[38;5;21m__call__\u001b[39m(\u001b[38;5;28mself\u001b[39m, \u001b[38;5;241m*\u001b[39margs, \u001b[38;5;241m*\u001b[39m\u001b[38;5;241m*\u001b[39mkwargs):\n\u001b[1;32m    688\u001b[0m     \u001b[38;5;66;03m# overloading __call__ to ensure torch.ops.foo.bar()\u001b[39;00m\n\u001b[1;32m    689\u001b[0m     \u001b[38;5;66;03m# is still callable from JIT\u001b[39;00m\n\u001b[1;32m    690\u001b[0m     \u001b[38;5;66;03m# We save the function ptr as the `op` attribute on\u001b[39;00m\n\u001b[1;32m    691\u001b[0m     \u001b[38;5;66;03m# OpOverloadPacket to access it here.\u001b[39;00m\n\u001b[0;32m--> 692\u001b[0m     \u001b[38;5;28;01mreturn\u001b[39;00m \u001b[38;5;28;43mself\u001b[39;49m\u001b[38;5;241;43m.\u001b[39;49m\u001b[43m_op\u001b[49m\u001b[43m(\u001b[49m\u001b[38;5;241;43m*\u001b[39;49m\u001b[43margs\u001b[49m\u001b[43m,\u001b[49m\u001b[43m \u001b[49m\u001b[38;5;241;43m*\u001b[39;49m\u001b[38;5;241;43m*\u001b[39;49m\u001b[43mkwargs\u001b[49m\u001b[43m \u001b[49m\u001b[38;5;129;43;01mor\u001b[39;49;00m\u001b[43m \u001b[49m\u001b[43m{\u001b[49m\u001b[43m}\u001b[49m\u001b[43m)\u001b[49m\n",
      "\u001b[0;31mRuntimeError\u001b[0m: mat.dim() >= 2 INTERNAL ASSERT FAILED at \"csrc/cuda/spmm_cuda.cu\":110, please report a bug to PyTorch. Input mismatch"
     ]
    }
   ],
   "source": [
    "from gpn.experiments.multiple_run_experiment import MultipleRunExperiment\n",
    "from gpn.experiments.transductive_experiment import TransductiveExperiment\n",
    "from gpn.utils.config import (\n",
    "    DataConfiguration,\n",
    "    ModelConfiguration,\n",
    "    RunConfiguration,\n",
    "    TrainingConfiguration,\n",
    ")\n",
    "\n",
    "\n",
    "def create_experiment(model_name):\n",
    "    run_cfg = RunConfiguration(\n",
    "        job=\"train\",\n",
    "        eval_mode=\"default\",\n",
    "        experiment_directory=\"./.cache\",\n",
    "        save_model=True,\n",
    "        gpu=0,\n",
    "        experiment_name=\"ood_loc\",\n",
    "        num_inits=1,\n",
    "        num_splits=1,\n",
    "    )\n",
    "    data_cfg = DataConfiguration(\n",
    "        dataset=\"AmazonPhotos\",\n",
    "        split_no=1,\n",
    "        root=\"./data\",\n",
    "        ood_flag=True,\n",
    "        train_samples_per_class=0.05,\n",
    "        val_samples_per_class=0.15,\n",
    "        test_samples_per_class=0.8,\n",
    "        split=\"random\",\n",
    "        ood_setting=\"poisoning\",\n",
    "        ood_type=\"leave_out_classes\",\n",
    "        ood_num_left_out_classes=-1,\n",
    "        ood_leave_out_last_classes=True,\n",
    "    )\n",
    "\n",
    "    model_cfg = ModelConfiguration(\n",
    "        model_name=model_name,\n",
    "        seed=42,\n",
    "        init_no=1,\n",
    "        dim_hidden=64,\n",
    "        dropout_prob=0.5,\n",
    "        K=1,\n",
    "        add_self_loops=True,\n",
    "        maf_layers=0,\n",
    "        gaussian_layers=0,\n",
    "        use_batched_flow=True,\n",
    "        loss_reduction=\"sum\",\n",
    "        approximate_reg=True,\n",
    "        flow_weight_decay=0.0,\n",
    "        pre_train_mode=\"flow\",\n",
    "        alpha_evidence_scale=\"latent-new\",\n",
    "        alpha_teleport=0.1,\n",
    "        entropy_reg=0.0001,\n",
    "        dim_latent=16,\n",
    "        radial_layers=10,\n",
    "    )\n",
    "\n",
    "    train_cfg = TrainingConfiguration(\n",
    "        epochs=100000,\n",
    "        stopping_mode=\"default\",\n",
    "        stopping_patience=50,\n",
    "        stopping_restore_best=True,\n",
    "        stopping_metric=\"val_CE\",\n",
    "        stopping_minimize=True,\n",
    "        finetune_epochs=0,\n",
    "        warmup_epochs=5,\n",
    "        lr=0.01,\n",
    "        weight_decay=0.001,\n",
    "    )\n",
    "\n",
    "    return MultipleRunExperiment(run_cfg, data_cfg, model_cfg, train_cfg)\n",
    "\n",
    "\n",
    "# gpn_e = create_experiment(\"GPN\")\n",
    "lop_e = create_experiment(\"GPN_LOP\")\n",
    "res_lop = lop_e.run()\n",
    "# res = gpn_e.run()\n",
    "res_lop"
   ]
  },
  {
   "cell_type": "code",
   "execution_count": null,
   "metadata": {},
   "outputs": [],
   "source": [
    "import pandas as pd\n",
    "from gpn.utils.utils import results_dict_to_df\n",
    "\n",
    "df_lop = results_dict_to_df(res_lop)\n",
    "df = results_dict_to_df(res)\n",
    "\n",
    "pd.set_option(\"display.max_rows\", None)\n",
    "(pd.DataFrame(\n",
    "    dict(\n",
    "        val_gpn=df[\"val\"],\n",
    "        test_gpn=df[\"test\"],\n",
    "        val_lop=df_lop[\"val\"],\n",
    "        test_lop=df_lop[\"test\"],\n",
    "    )\n",
    ")).round(4).dropna()"
   ]
  },
  {
   "cell_type": "code",
   "execution_count": null,
   "metadata": {},
   "outputs": [],
   "source": [
    "from gpn.data.dataset_manager import DatasetManager\n",
    "from gpn.data.dataset_provider import InMemoryDatasetProvider\n",
    "import torch_sparse as ts\n",
    "\n",
    "ds = InMemoryDatasetProvider(\n",
    "    DatasetManager(\n",
    "        dataset=\"AmazonPhotos\",\n",
    "        split_no=1,\n",
    "        root=\"./data\",\n",
    "        ood_flag=True,\n",
    "        train_samples_per_class=0.05,\n",
    "        val_samples_per_class=0.15,\n",
    "        test_samples_per_class=0.8,\n",
    "        split=\"random\",\n",
    "        ood_setting=\"poisoning\",\n",
    "        ood_type=\"leave_out_classes\",\n",
    "        ood_num_left_out_classes=-1,\n",
    "        ood_leave_out_last_classes=True,\n",
    "    )\n",
    ").to_sparse()\n",
    "\n",
    "batch = list(ds.loader())[0]\n",
    "\n",
    "batch.adj_t.dtype()"
   ]
  },
  {
   "cell_type": "code",
   "execution_count": null,
   "metadata": {},
   "outputs": [],
   "source": [
    "N = batch.x.shape[0]\n",
    "adj_t = batch.adj_t.cuda()\n",
    "adj_t"
   ]
  },
  {
   "cell_type": "code",
   "execution_count": 16,
   "metadata": {},
   "outputs": [
    {
     "data": {
      "text/plain": [
       "tensor([[0., 1., 0.],\n",
       "        [1., 0., 1.],\n",
       "        [0., 1., 0.]], device='cuda:0')"
      ]
     },
     "execution_count": 16,
     "metadata": {},
     "output_type": "execute_result"
    }
   ],
   "source": [
    "import torch_sparse as ts\n",
    "\n",
    "adj_t = ts.SparseTensor.from_dense(\n",
    "    torch.Tensor([[0, 1, 0], [1, 0, 1], [0, 1, 0]])\n",
    ").cuda()\n",
    "x = torch.Tensor([1, 10, 100]).view(-1,1).cuda()\n",
    "N = x.shape[0]\n",
    "adj_t.to_dense()"
   ]
  },
  {
   "cell_type": "code",
   "execution_count": 29,
   "metadata": {},
   "outputs": [
    {
     "data": {
      "text/plain": [
       "tensor([[0.5000, 0.3333, 0.0000],\n",
       "        [0.5000, 0.3333, 0.5000],\n",
       "        [0.0000, 0.3333, 0.5000]], device='cuda:0')"
      ]
     },
     "execution_count": 29,
     "metadata": {},
     "output_type": "execute_result"
    }
   ],
   "source": [
    "from gpn.layers.appnp_propagation import APPNPPropagation\n",
    "\n",
    "prop = APPNPPropagation(1, 0, 0, normalization=\"in-degree\")\n",
    "# x = torch.diag(torch.ones(N, device=\"cuda\"))\n",
    "x = ts.SparseTensor.eye(N, dtype=torch.float32, device=\"cuda\")  # type: ignore\n",
    "\n",
    "prop(x, adj_t).to_dense()"
   ]
  },
  {
   "cell_type": "code",
   "execution_count": null,
   "metadata": {},
   "outputs": [],
   "source": [
    "ts.SparseTensor.from_edge_index(torch.tensor([[0,1],[0,1]]),sparse_sizes=(10,3)).dtype()"
   ]
  }
 ],
 "metadata": {
  "kernelspec": {
   "display_name": ".venv",
   "language": "python",
   "name": "python3"
  },
  "language_info": {
   "codemirror_mode": {
    "name": "ipython",
    "version": 3
   },
   "file_extension": ".py",
   "mimetype": "text/x-python",
   "name": "python",
   "nbconvert_exporter": "python",
   "pygments_lexer": "ipython3",
   "version": "3.10.12"
  }
 },
 "nbformat": 4,
 "nbformat_minor": 2
}
