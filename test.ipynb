{
 "cells": [
  {
   "cell_type": "code",
   "execution_count": 4,
   "metadata": {},
   "outputs": [],
   "source": [
    "%load_ext autoreload\n",
    "%autoreload 2"
   ]
  },
  {
   "cell_type": "code",
   "execution_count": 3,
   "metadata": {},
   "outputs": [],
   "source": [
    "import torch\n",
    "import torch_geometric as pyg\n",
    "import torch_geometric.datasets as pygd\n",
    "import warnings\n",
    "from sklearn.exceptions import UndefinedMetricWarning\n",
    "\n",
    "warnings.filterwarnings(\"ignore\", category=UndefinedMetricWarning)"
   ]
  },
  {
   "cell_type": "code",
   "execution_count": 6,
   "metadata": {},
   "outputs": [
    {
     "ename": "AssertionError",
     "evalue": "",
     "output_type": "error",
     "traceback": [
      "\u001b[0;31m---------------------------------------------------------------------------\u001b[0m",
      "\u001b[0;31mAssertionError\u001b[0m                            Traceback (most recent call last)",
      "Cell \u001b[0;32mIn[6], line 79\u001b[0m\n\u001b[1;32m     77\u001b[0m \u001b[38;5;66;03m# gpn_e = create_experiment(\"GPN\")\u001b[39;00m\n\u001b[1;32m     78\u001b[0m lop_e \u001b[38;5;241m=\u001b[39m create_experiment(\u001b[38;5;124m\"\u001b[39m\u001b[38;5;124mGPN_LOP\u001b[39m\u001b[38;5;124m\"\u001b[39m)\n\u001b[0;32m---> 79\u001b[0m res_lop \u001b[38;5;241m=\u001b[39m \u001b[43mlop_e\u001b[49m\u001b[38;5;241;43m.\u001b[39;49m\u001b[43mrun\u001b[49m\u001b[43m(\u001b[49m\u001b[43m)\u001b[49m\n\u001b[1;32m     80\u001b[0m \u001b[38;5;66;03m# res = gpn_e.run()\u001b[39;00m\n\u001b[1;32m     81\u001b[0m res_lop\n",
      "File \u001b[0;32m~/Projects/Graph-Posterior-Network/gpn/experiments/multiple_run_experiment.py:50\u001b[0m, in \u001b[0;36mMultipleRunExperiment.run\u001b[0;34m(self)\u001b[0m\n\u001b[1;32m     47\u001b[0m \u001b[38;5;28mself\u001b[39m\u001b[38;5;241m.\u001b[39mmodel_cfg\u001b[38;5;241m.\u001b[39mset_values(init_no\u001b[38;5;241m=\u001b[39minit_no)\n\u001b[1;32m     49\u001b[0m \u001b[38;5;28;01mif\u001b[39;00m \u001b[38;5;28mself\u001b[39m\u001b[38;5;241m.\u001b[39mrun_cfg\u001b[38;5;241m.\u001b[39mex_type \u001b[38;5;241m==\u001b[39m \u001b[38;5;124m'\u001b[39m\u001b[38;5;124mtransductive\u001b[39m\u001b[38;5;124m'\u001b[39m:\n\u001b[0;32m---> 50\u001b[0m     results \u001b[38;5;241m=\u001b[39m \u001b[38;5;28;43mself\u001b[39;49m\u001b[38;5;241;43m.\u001b[39;49m\u001b[43mrun_transductive_experiment\u001b[49m\u001b[43m(\u001b[49m\u001b[43m)\u001b[49m\n\u001b[1;32m     52\u001b[0m \u001b[38;5;28;01melse\u001b[39;00m:\n\u001b[1;32m     53\u001b[0m     \u001b[38;5;28;01mraise\u001b[39;00m \u001b[38;5;167;01mValueError\u001b[39;00m\n",
      "File \u001b[0;32m~/Projects/Graph-Posterior-Network/gpn/experiments/multiple_run_experiment.py:75\u001b[0m, in \u001b[0;36mMultipleRunExperiment.run_transductive_experiment\u001b[0;34m(self)\u001b[0m\n\u001b[1;32m     74\u001b[0m \u001b[38;5;28;01mdef\u001b[39;00m \u001b[38;5;21mrun_transductive_experiment\u001b[39m(\u001b[38;5;28mself\u001b[39m) \u001b[38;5;241m-\u001b[39m\u001b[38;5;241m>\u001b[39m Dict[\u001b[38;5;28mstr\u001b[39m, Any]:\n\u001b[0;32m---> 75\u001b[0m     experiment \u001b[38;5;241m=\u001b[39m \u001b[43mTransductiveExperiment\u001b[49m\u001b[43m(\u001b[49m\n\u001b[1;32m     76\u001b[0m \u001b[43m        \u001b[49m\u001b[38;5;28;43mself\u001b[39;49m\u001b[38;5;241;43m.\u001b[39;49m\u001b[43mrun_cfg\u001b[49m\u001b[38;5;241;43m.\u001b[39;49m\u001b[43mclone\u001b[49m\u001b[43m(\u001b[49m\u001b[43m)\u001b[49m\u001b[43m,\u001b[49m\u001b[43m \u001b[49m\u001b[38;5;28;43mself\u001b[39;49m\u001b[38;5;241;43m.\u001b[39;49m\u001b[43mdata_cfg\u001b[49m\u001b[38;5;241;43m.\u001b[39;49m\u001b[43mclone\u001b[49m\u001b[43m(\u001b[49m\u001b[43m)\u001b[49m\u001b[43m,\u001b[49m\n\u001b[1;32m     77\u001b[0m \u001b[43m        \u001b[49m\u001b[38;5;28;43mself\u001b[39;49m\u001b[38;5;241;43m.\u001b[39;49m\u001b[43mmodel_cfg\u001b[49m\u001b[38;5;241;43m.\u001b[39;49m\u001b[43mclone\u001b[49m\u001b[43m(\u001b[49m\u001b[43m)\u001b[49m\u001b[43m,\u001b[49m\u001b[43m \u001b[49m\u001b[38;5;28;43mself\u001b[39;49m\u001b[38;5;241;43m.\u001b[39;49m\u001b[43mtrain_cfg\u001b[49m\u001b[38;5;241;43m.\u001b[39;49m\u001b[43mclone\u001b[49m\u001b[43m(\u001b[49m\u001b[43m)\u001b[49m\u001b[43m,\u001b[49m\u001b[43m \u001b[49m\u001b[43mex\u001b[49m\u001b[38;5;241;43m=\u001b[39;49m\u001b[38;5;28;43mself\u001b[39;49m\u001b[38;5;241;43m.\u001b[39;49m\u001b[43mex\u001b[49m\u001b[43m)\u001b[49m\n\u001b[1;32m     78\u001b[0m     results \u001b[38;5;241m=\u001b[39m experiment\u001b[38;5;241m.\u001b[39mrun()\n\u001b[1;32m     80\u001b[0m     \u001b[38;5;28;01mreturn\u001b[39;00m results\n",
      "File \u001b[0;32m~/Projects/Graph-Posterior-Network/gpn/experiments/transductive_experiment.py:100\u001b[0m, in \u001b[0;36mTransductiveExperiment.__init__\u001b[0;34m(self, run_cfg, data_cfg, model_cfg, train_cfg, ex)\u001b[0m\n\u001b[1;32m     98\u001b[0m \u001b[38;5;66;03m# base dataset\u001b[39;00m\n\u001b[1;32m     99\u001b[0m set_seed(\u001b[38;5;28mself\u001b[39m\u001b[38;5;241m.\u001b[39mmodel_cfg\u001b[38;5;241m.\u001b[39mseed)\n\u001b[0;32m--> 100\u001b[0m \u001b[38;5;28mself\u001b[39m\u001b[38;5;241m.\u001b[39mdataset \u001b[38;5;241m=\u001b[39m \u001b[43mExperimentDataset\u001b[49m\u001b[43m(\u001b[49m\u001b[43mdata_cfg\u001b[49m\u001b[43m,\u001b[49m\u001b[43m \u001b[49m\u001b[43mto_sparse\u001b[49m\u001b[38;5;241;43m=\u001b[39;49m\u001b[43mdata_cfg\u001b[49m\u001b[38;5;241;43m.\u001b[39;49m\u001b[43mto_sparse\u001b[49m\u001b[43m)\u001b[49m\n\u001b[1;32m    101\u001b[0m \u001b[38;5;28mself\u001b[39m\u001b[38;5;241m.\u001b[39mmodel_cfg\u001b[38;5;241m.\u001b[39mset_values(\n\u001b[1;32m    102\u001b[0m     dim_features\u001b[38;5;241m=\u001b[39m\u001b[38;5;28mself\u001b[39m\u001b[38;5;241m.\u001b[39mdataset\u001b[38;5;241m.\u001b[39mdim_features,\n\u001b[1;32m    103\u001b[0m     num_classes\u001b[38;5;241m=\u001b[39m\u001b[38;5;28mself\u001b[39m\u001b[38;5;241m.\u001b[39mdataset\u001b[38;5;241m.\u001b[39mnum_classes\n\u001b[1;32m    104\u001b[0m )\n\u001b[1;32m    105\u001b[0m \u001b[38;5;28mself\u001b[39m\u001b[38;5;241m.\u001b[39msetup_model()\n",
      "File \u001b[0;32m~/Projects/Graph-Posterior-Network/gpn/experiments/dataset.py:59\u001b[0m, in \u001b[0;36mExperimentDataset.__init__\u001b[0;34m(self, data_cfg, to_sparse)\u001b[0m\n\u001b[1;32m     56\u001b[0m dataset \u001b[38;5;241m=\u001b[39m \u001b[38;5;28;01mNone\u001b[39;00m\n\u001b[1;32m     58\u001b[0m \u001b[38;5;28;01mfor\u001b[39;00m _ \u001b[38;5;129;01min\u001b[39;00m \u001b[38;5;28mrange\u001b[39m(data_cfg\u001b[38;5;241m.\u001b[39msplit_no):\n\u001b[0;32m---> 59\u001b[0m     dataset \u001b[38;5;241m=\u001b[39m \u001b[43mDatasetManager\u001b[49m\u001b[43m(\u001b[49m\u001b[38;5;241;43m*\u001b[39;49m\u001b[38;5;241;43m*\u001b[39;49m\u001b[43mdata_cfg\u001b[49m\u001b[38;5;241;43m.\u001b[39;49m\u001b[43mto_dict\u001b[49m\u001b[43m(\u001b[49m\u001b[43m)\u001b[49m\u001b[43m)\u001b[49m\n\u001b[1;32m     61\u001b[0m \u001b[38;5;28;01massert\u001b[39;00m dataset \u001b[38;5;129;01mis\u001b[39;00m \u001b[38;5;129;01mnot\u001b[39;00m \u001b[38;5;28;01mNone\u001b[39;00m\n\u001b[1;32m     62\u001b[0m default_dataset \u001b[38;5;241m=\u001b[39m InMemoryDatasetProvider(dataset)\n",
      "File \u001b[0;32m~/Projects/Graph-Posterior-Network/gpn/data/dataset_manager.py:178\u001b[0m, in \u001b[0;36mDatasetManager\u001b[0;34m(dataset, root, split, train_samples_per_class, val_samples_per_class, test_samples_per_class, train_size, val_size, test_size, **_)\u001b[0m\n\u001b[1;32m    166\u001b[0m     data \u001b[38;5;241m=\u001b[39m D\u001b[38;5;241m.\u001b[39mPlanetoid(\n\u001b[1;32m    167\u001b[0m         root,\n\u001b[1;32m    168\u001b[0m         \u001b[38;5;124m\"\u001b[39m\u001b[38;5;124mPubMed\u001b[39m\u001b[38;5;124m\"\u001b[39m,\n\u001b[0;32m   (...)\u001b[0m\n\u001b[1;32m    174\u001b[0m         num_val\u001b[38;5;241m=\u001b[39mval_size,\n\u001b[1;32m    175\u001b[0m     )\n\u001b[1;32m    177\u001b[0m \u001b[38;5;28;01melif\u001b[39;00m dataset \u001b[38;5;241m==\u001b[39m \u001b[38;5;124m\"\u001b[39m\u001b[38;5;124mCiteSeer\u001b[39m\u001b[38;5;124m\"\u001b[39m:\n\u001b[0;32m--> 178\u001b[0m     \u001b[38;5;28;01massert\u001b[39;00m \u001b[38;5;28misinstance\u001b[39m(train_samples_per_class, \u001b[38;5;28mint\u001b[39m)\n\u001b[1;32m    179\u001b[0m     \u001b[38;5;28;01massert\u001b[39;00m \u001b[38;5;28misinstance\u001b[39m(test_size, \u001b[38;5;28mint\u001b[39m)\n\u001b[1;32m    180\u001b[0m     \u001b[38;5;28;01massert\u001b[39;00m \u001b[38;5;28misinstance\u001b[39m(val_size, \u001b[38;5;28mint\u001b[39m)\n",
      "\u001b[0;31mAssertionError\u001b[0m: "
     ]
    }
   ],
   "source": [
    "from gpn.experiments.multiple_run_experiment import MultipleRunExperiment\n",
    "from gpn.experiments.transductive_experiment import TransductiveExperiment\n",
    "from gpn.utils.config import (\n",
    "    DataConfiguration,\n",
    "    ModelConfiguration,\n",
    "    RunConfiguration,\n",
    "    TrainingConfiguration,\n",
    ")\n",
    "\n",
    "\n",
    "def create_experiment(model_name):\n",
    "    run_cfg = RunConfiguration(\n",
    "        job=\"train\",\n",
    "        eval_mode=\"default\",\n",
    "        experiment_directory=\"./.cache\",\n",
    "        save_model=True,\n",
    "        gpu=0,\n",
    "        experiment_name=\"ood_loc\",\n",
    "        num_inits=1,\n",
    "        num_splits=1,\n",
    "    )\n",
    "    data_cfg = DataConfiguration(\n",
    "        dataset=\"CiteSeer\",\n",
    "        split_no=1,\n",
    "        root=\"./data\",\n",
    "        ood_flag=True,\n",
    "        train_samples_per_class=0.05,\n",
    "        val_samples_per_class=0.15,\n",
    "        test_samples_per_class=0.8,\n",
    "        split=\"random\",\n",
    "        ood_setting=\"poisoning\",\n",
    "        ood_type=\"leave_out_classes\",\n",
    "        ood_num_left_out_classes=-1,\n",
    "        ood_leave_out_last_classes=True,\n",
    "    )\n",
    "\n",
    "    model_cfg = ModelConfiguration(\n",
    "        model_name=model_name,\n",
    "        seed=42,\n",
    "        init_no=1,\n",
    "        dim_hidden=64,\n",
    "        dropout_prob=0.5,\n",
    "        K=10,\n",
    "        add_self_loops=True,\n",
    "        maf_layers=0,\n",
    "        gaussian_layers=0,\n",
    "        use_batched_flow=True,\n",
    "        loss_reduction=\"sum\",\n",
    "        approximate_reg=True,\n",
    "        flow_weight_decay=0.0,\n",
    "        pre_train_mode=\"flow\",\n",
    "        alpha_evidence_scale=\"latent-new\",\n",
    "        alpha_teleport=0.1,\n",
    "        entropy_reg=0.0001,\n",
    "        dim_latent=16,\n",
    "        radial_layers=10,\n",
    "        sparse_propagation=True,\n",
    "        sparse_x_prune_threshold=0.01\n",
    "    )\n",
    "\n",
    "    train_cfg = TrainingConfiguration(\n",
    "        epochs=100000,\n",
    "        stopping_mode=\"default\",\n",
    "        stopping_patience=50,\n",
    "        stopping_restore_best=True,\n",
    "        stopping_metric=\"val_CE\",\n",
    "        stopping_minimize=True,\n",
    "        finetune_epochs=0,\n",
    "        warmup_epochs=5,\n",
    "        lr=0.01,\n",
    "        weight_decay=0.001,\n",
    "    )\n",
    "\n",
    "    return MultipleRunExperiment(run_cfg, data_cfg, model_cfg, train_cfg)\n",
    "\n",
    "\n",
    "# gpn_e = create_experiment(\"GPN\")\n",
    "lop_e = create_experiment(\"GPN_LOP\")\n",
    "res_lop = lop_e.run()\n",
    "# res = gpn_e.run()\n",
    "res_lop"
   ]
  },
  {
   "cell_type": "code",
   "execution_count": null,
   "metadata": {},
   "outputs": [],
   "source": [
    "import pandas as pd\n",
    "from gpn.utils.utils import results_dict_to_df\n",
    "\n",
    "df_lop = results_dict_to_df(res_lop)\n",
    "df = results_dict_to_df(res)\n",
    "\n",
    "pd.set_option(\"display.max_rows\", None)\n",
    "(pd.DataFrame(\n",
    "    dict(\n",
    "        val_gpn=df[\"val\"],\n",
    "        test_gpn=df[\"test\"],\n",
    "        val_lop=df_lop[\"val\"],\n",
    "        test_lop=df_lop[\"test\"],\n",
    "    )\n",
    ")).round(4).dropna()"
   ]
  },
  {
   "cell_type": "code",
   "execution_count": null,
   "metadata": {},
   "outputs": [],
   "source": [
    "from gpn.data.dataset_manager import DatasetManager\n",
    "from gpn.data.dataset_provider import InMemoryDatasetProvider\n",
    "import torch_sparse as ts\n",
    "\n",
    "ds = InMemoryDatasetProvider(\n",
    "    DatasetManager(\n",
    "        dataset=\"AmazonPhotos\",\n",
    "        split_no=1,\n",
    "        root=\"./data\",\n",
    "        ood_flag=True,\n",
    "        train_samples_per_class=0.05,\n",
    "        val_samples_per_class=0.15,\n",
    "        test_samples_per_class=0.8,\n",
    "        split=\"random\",\n",
    "        ood_setting=\"poisoning\",\n",
    "        ood_type=\"leave_out_classes\",\n",
    "        ood_num_left_out_classes=-1,\n",
    "        ood_leave_out_last_classes=True,\n",
    "    )\n",
    ").to_sparse()\n",
    "\n",
    "batch = list(ds.loader())[0]\n",
    "\n",
    "batch.adj_t.dtype()"
   ]
  },
  {
   "cell_type": "code",
   "execution_count": null,
   "metadata": {},
   "outputs": [],
   "source": [
    "N = batch.x.shape[0]\n",
    "adj_t = batch.adj_t.cuda()\n",
    "adj_t"
   ]
  },
  {
   "cell_type": "code",
   "execution_count": 5,
   "metadata": {},
   "outputs": [
    {
     "name": "stdout",
     "output_type": "stream",
     "text": [
      "torch.float32\n"
     ]
    },
    {
     "data": {
      "text/plain": [
       "tensor([[6.0000, 1.0000, 0.0000],\n",
       "        [0.1000, 2.0000, 0.1000],\n",
       "        [0.0000, 0.0100, 3.0000]], device='cuda:0')"
      ]
     },
     "execution_count": 5,
     "metadata": {},
     "output_type": "execute_result"
    }
   ],
   "source": [
    "import torch_sparse as ts\n",
    "\n",
    "adj_t = ts.SparseTensor.from_dense(\n",
    "    torch.Tensor([[0, 1, 0], [1, 0, 1], [0, 1, 0]])\n",
    ").cuda()\n",
    "x = torch.Tensor([1, 10, 100]).view(-1, 1).cuda()\n",
    "N = x.shape[0]\n",
    "adj_t /= x\n",
    "print(adj_t.dtype())\n",
    "adj_t.set_diag(torch.tensor([6,2,3], dtype=torch.float32).cuda()).to_dense()"
   ]
  },
  {
   "cell_type": "code",
   "execution_count": 19,
   "metadata": {},
   "outputs": [
    {
     "data": {
      "text/plain": [
       "tensor([[0.5000, 0.6455, 0.0000],\n",
       "        [0.0645, 0.8333, 0.0908],\n",
       "        [0.0000, 0.0091, 0.9901]], device='cuda:0')"
      ]
     },
     "execution_count": 19,
     "metadata": {},
     "output_type": "execute_result"
    }
   ],
   "source": [
    "from gpn.layers.appnp_propagation import APPNPPropagation\n",
    "\n",
    "prop = APPNPPropagation(1, 0, 0, normalization=\"sym\")\n",
    "x = ts.SparseTensor.eye(N, dtype=torch.float32, device=\"cuda\")  # type: ignore\n",
    "\n",
    "p: ts.SparseTensor = prop(x, adj_t)\n",
    "\n",
    "p.to_dense()"
   ]
  },
  {
   "cell_type": "code",
   "execution_count": 20,
   "metadata": {},
   "outputs": [
    {
     "data": {
      "text/plain": [
       "tensor([[0.5000, 0.6455, 0.0000],\n",
       "        [0.0645, 0.8333, 0.0908],\n",
       "        [0.0000, 0.0091, 0.9901]], device='cuda:0')"
      ]
     },
     "execution_count": 20,
     "metadata": {},
     "output_type": "execute_result"
    }
   ],
   "source": [
    "prop = APPNPPropagation(1, 0, 0, normalization=\"sym\")\n",
    "x = torch.diag(torch.ones(N, device=\"cuda\"))\n",
    "\n",
    "p: ts.SparseTensor = prop(x, adj_t)\n",
    "\n",
    "p"
   ]
  },
  {
   "cell_type": "code",
   "execution_count": null,
   "metadata": {},
   "outputs": [],
   "source": [
    "ts.SparseTensor.from_edge_index(torch.tensor([[0,1],[0,1]]),sparse_sizes=(10,3)).dtype()"
   ]
  },
  {
   "cell_type": "code",
   "execution_count": 43,
   "metadata": {},
   "outputs": [
    {
     "ename": "TypeError",
     "evalue": "<lambda>() missing 1 required positional argument: 'self'",
     "output_type": "error",
     "traceback": [
      "\u001b[0;31m---------------------------------------------------------------------------\u001b[0m",
      "\u001b[0;31mTypeError\u001b[0m                                 Traceback (most recent call last)",
      "Cell \u001b[0;32mIn[43], line 1\u001b[0m\n\u001b[0;32m----> 1\u001b[0m \u001b[43mts\u001b[49m\u001b[38;5;241;43m.\u001b[39;49m\u001b[43mSparseTensor\u001b[49m\u001b[38;5;241;43m.\u001b[39;49m\u001b[43mget_diag\u001b[49m\u001b[43m(\u001b[49m\u001b[43m)\u001b[49m\n",
      "\u001b[0;31mTypeError\u001b[0m: <lambda>() missing 1 required positional argument: 'self'"
     ]
    }
   ],
   "source": [
    "ts.SparseTensor.from_.get_diag()"
   ]
  }
 ],
 "metadata": {
  "kernelspec": {
   "display_name": ".venv",
   "language": "python",
   "name": "python3"
  },
  "language_info": {
   "codemirror_mode": {
    "name": "ipython",
    "version": 3
   },
   "file_extension": ".py",
   "mimetype": "text/x-python",
   "name": "python",
   "nbconvert_exporter": "python",
   "pygments_lexer": "ipython3",
   "version": "3.10.12"
  }
 },
 "nbformat": 4,
 "nbformat_minor": 2
}
