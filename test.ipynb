{
 "cells": [
  {
   "cell_type": "code",
   "execution_count": null,
   "metadata": {},
   "outputs": [],
   "source": [
    "%load_ext autoreload\n",
    "%autoreload 2"
   ]
  },
  {
   "cell_type": "code",
   "execution_count": null,
   "metadata": {},
   "outputs": [],
   "source": [
    "import torch\n",
    "import torch_geometric as pyg\n",
    "import torch_geometric.datasets as pygd\n",
    "import gpn.experiments.transductive_experiment as exp"
   ]
  },
  {
   "cell_type": "code",
   "execution_count": 69,
   "metadata": {},
   "outputs": [
    {
     "data": {
      "text/plain": [
       "<gpn.experiments.transductive_experiment.TransductiveExperiment at 0x7f1fee9fc7f0>"
      ]
     },
     "execution_count": 69,
     "metadata": {},
     "output_type": "execute_result"
    }
   ],
   "source": [
    "from gpn.utils.config import DataConfiguration, ModelConfiguration, RunConfiguration, TrainingConfiguration\n",
    "\n",
    "\n",
    "run_cfg = RunConfiguration(\n",
    "    job=\"train\",\n",
    "    eval_mode=\"default\",\n",
    "    experiment_directory=\"./saved_experiments\",\n",
    "    save_model=True,\n",
    "    gpu=0,\n",
    "    experiment_name=\"ood_loc\"\n",
    ")\n",
    "data_cfg = DataConfiguration(\n",
    "    dataset=\"CoraML\",\n",
    "    split_no=1,\n",
    "    root=\"./data\",\n",
    "    ood_flag=True,\n",
    "    train_samples_per_class=0.05,\n",
    "    val_samples_per_class=0.15,\n",
    "    test_samples_per_class=0.8,\n",
    "    split=\"random\",\n",
    "    ood_setting=\"poisoning\",\n",
    "    ood_type=\"leave_out_classes\",\n",
    "    ood_num_left_out_classes=-1,\n",
    "    ood_leave_out_last_classes=True\n",
    ")\n",
    "\n",
    "model_cfg = ModelConfiguration(\n",
    "    model_name=\"GPN_LOP\",\n",
    "    seed=42,\n",
    "    init_no=1,\n",
    "    dim_hidden=64,\n",
    "    dropout_prob=0.5,\n",
    "    K=10,\n",
    "    add_self_loops=True,\n",
    "    maf_layers=0,\n",
    "    gaussian_layers=0,\n",
    "    use_batched_flow=True,\n",
    "    loss_reduction=\"sum\",\n",
    "    approximate_reg=True,\n",
    "    flow_weight_decay=0.0,\n",
    "    pre_train_mode=\"flow\",\n",
    "    alpha_evidence_scale=\"latent-new-plus-classes\",\n",
    "    alpha_teleport=0.2,\n",
    "    entropy_reg=1.0e-05,\n",
    "    dim_latent=10,\n",
    "    radial_layers=10\n",
    ")\n",
    "\n",
    "train_cfg = TrainingConfiguration(\n",
    "    epochs=100000,\n",
    "    stopping_mode=\"default\",\n",
    "    stopping_patience=50,\n",
    "    stopping_restore_best=True,\n",
    "    stopping_metric=\"val_CE\",\n",
    "    stopping_minimize=True,\n",
    "    finetune_epochs=0,\n",
    "    warmup_epochs=5,\n",
    "    lr=0.01,\n",
    "    weight_decay=0.0005\n",
    ")\n",
    "\n",
    "e = exp.TransductiveExperiment(run_cfg, data_cfg, model_cfg, train_cfg)\n",
    "e"
   ]
  },
  {
   "cell_type": "code",
   "execution_count": 70,
   "metadata": {},
   "outputs": [
    {
     "data": {
      "text/plain": [
       "'evaluate'"
      ]
     },
     "execution_count": 70,
     "metadata": {},
     "output_type": "execute_result"
    }
   ],
   "source": [
    "run_cfg.job"
   ]
  },
  {
   "cell_type": "code",
   "execution_count": 60,
   "metadata": {},
   "outputs": [
    {
     "name": "stderr",
     "output_type": "stream",
     "text": [
      "/home/clemens/Projects/Graph-Posterior-Network/.venv/lib/python3.10/site-packages/sklearn/metrics/_ranking.py:1124: UndefinedMetricWarning: No negative samples in y_true, false positive value should be meaningless\n",
      "  warnings.warn(\n",
      "/home/clemens/Projects/Graph-Posterior-Network/.venv/lib/python3.10/site-packages/sklearn/metrics/_ranking.py:1124: UndefinedMetricWarning: No negative samples in y_true, false positive value should be meaningless\n",
      "  warnings.warn(\n"
     ]
    }
   ],
   "source": [
    "res = e.run()"
   ]
  },
  {
   "cell_type": "code",
   "execution_count": null,
   "metadata": {},
   "outputs": [],
   "source": [
    "from gpn.utils.utils import results_dict_to_df\n",
    "\n",
    "results_dict_to_df(res)"
   ]
  },
  {
   "cell_type": "code",
   "execution_count": null,
   "metadata": {},
   "outputs": [],
   "source": [
    "a = torch.tensor([[2, 8], [20, 80], [200, 800]], dtype=torch.float32)\n",
    "\n",
    "w = torch.tensor([[0.5, 0.5, 0], [0, 1, 0], [0, 0.5, 0.5]])\n",
    "\n",
    "y = torch.tensor([1, 0, 1])\n",
    "\n",
    "mix_sum = w @ a.sum(-1)\n",
    "\n",
    "(w @ a), (w @ a).gather(-1, y.view(-1, 1)).squeeze(-1)"
   ]
  }
 ],
 "metadata": {
  "kernelspec": {
   "display_name": ".venv",
   "language": "python",
   "name": "python3"
  },
  "language_info": {
   "codemirror_mode": {
    "name": "ipython",
    "version": 3
   },
   "file_extension": ".py",
   "mimetype": "text/x-python",
   "name": "python",
   "nbconvert_exporter": "python",
   "pygments_lexer": "ipython3",
   "version": "3.10.12"
  }
 },
 "nbformat": 4,
 "nbformat_minor": 2
}
